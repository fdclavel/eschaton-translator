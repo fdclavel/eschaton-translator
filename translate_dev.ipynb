{
 "cells": [
  {
   "cell_type": "code",
   "execution_count": 1,
   "metadata": {},
   "outputs": [],
   "source": [
    "%load_ext autoreload\n",
    "%autoreload 2"
   ]
  },
  {
   "cell_type": "code",
   "execution_count": 2,
   "metadata": {},
   "outputs": [],
   "source": [
    "import re\n",
    "import os"
   ]
  },
  {
   "cell_type": "markdown",
   "metadata": {},
   "source": [
    "# Translator (developer notebook)\n",
    "### PURPOSE\n",
    "To translate user input strings into other languages. Starting with a single made up simple language.\n",
    "\n",
    "#### SPECIFICATIONS\n",
    "\n",
    "**The method used is as follows:**\n",
    "1. Take a user input string and explode it into individual characters\n",
    "2. Use a translation dictionary to generate alternate character sets for each input character\n",
    "3. Use conditionals to skip any characters without matching definitions, such as punctuation marks or spaces.\n",
    "4. Ignore and simply reproduce any proper nouns enclosed by quotation marks\n",
    "5. Join the characters back together as a string and return them to the user"
   ]
  },
  {
   "cell_type": "code",
   "execution_count": 3,
   "metadata": {},
   "outputs": [],
   "source": [
    "# match characters in input string to dictionary\n",
    "def translate(inputstr):\n",
    "    chars = [*inputstr]\n",
    "    newstr = [None]*len(chars)\n",
    "\n",
    "    for i in range(0, len(chars)):\n",
    "        compare = chars[i]\n",
    "        charval = esc.get(f'{compare}',f'{compare}')\n",
    "        newstr[i] = charval\n",
    "    translation = ''.join(newstr)\n",
    "    \n",
    "    return translation"
   ]
  },
  {
   "cell_type": "code",
   "execution_count": 4,
   "metadata": {},
   "outputs": [],
   "source": [
    "def speak(inputstr):\n",
    "\n",
    "    words = inputstr.split()\n",
    "    #chars = [*inputstr]\n",
    "    newstr = [None]*len(words)\n",
    "\n",
    "    for i in range(0, len(words)):\n",
    "        compare = words[i]\n",
    "        wordval = esc_spk.get(f'{compare}',f'{compare}')\n",
    "        if (wordval == ','):\n",
    "            newstr[i] = ','\n",
    "        elif (wordval == '.'):\n",
    "            newstr[i] = '.'\n",
    "        elif (wordval == '...'):\n",
    "            newstr[i] = '...'\n",
    "        elif (wordval == '!'):\n",
    "            newstr[i] = '!'\n",
    "        elif (wordval == '?'):\n",
    "            newstr[i] = '?'\n",
    "        elif (wordval == compare):\n",
    "            newstr[i] = 'KHA'\n",
    "        else:\n",
    "            newstr[i] = wordval\n",
    "    translation = ' '.join(newstr)\n",
    "    \n",
    "    return translation"
   ]
  },
  {
   "cell_type": "code",
   "execution_count": 5,
   "metadata": {},
   "outputs": [],
   "source": [
    "from eschaton import eschaton as esc\n",
    "from eschaton_speak import words as esc_spk"
   ]
  },
  {
   "cell_type": "code",
   "execution_count": 12,
   "metadata": {},
   "outputs": [],
   "source": [
    "inputstr = \"\"\"   \n",
    "\n",
    "what is going on ? do you sense it as well ?\n",
    "\n",
    "\"\"\""
   ]
  },
  {
   "cell_type": "code",
   "execution_count": 13,
   "metadata": {},
   "outputs": [
    {
     "data": {
      "text/plain": [
       "\"   \\n\\nwght'aetag 'ys gl'li'ynggl 'ling ? ct'li yeh'li'ui s'ehngs'eh 'ytag 'aes wg'ehlwlw ?\\n\\n\""
      ]
     },
     "execution_count": 13,
     "metadata": {},
     "output_type": "execute_result"
    }
   ],
   "source": [
    "translate(inputstr)"
   ]
  },
  {
   "cell_type": "code",
   "execution_count": 14,
   "metadata": {},
   "outputs": [
    {
     "data": {
      "text/plain": [
       "'vek ahft tethah ein ? icht esch schonzer hetha ezh gehla ?'"
      ]
     },
     "execution_count": 14,
     "metadata": {},
     "output_type": "execute_result"
    }
   ],
   "source": [
    "say = speak(inputstr)\n",
    "say"
   ]
  },
  {
   "cell_type": "raw",
   "metadata": {
    "vscode": {
     "languageId": "raw"
    }
   },
   "source": [
    "-- suffer their appetites, wretch --\n",
    "\n",
    "\"\"thegal kan schreivah zauf thel'rah , heth fielah'aresch\"\""
   ]
  },
  {
   "cell_type": "raw",
   "metadata": {
    "vscode": {
     "languageId": "raw"
    }
   },
   "source": [
    "aftet zau praften icht'ah? "
   ]
  },
  {
   "cell_type": "raw",
   "metadata": {
    "vscode": {
     "languageId": "raw"
    }
   },
   "source": [
    "\"\"\"\n",
    "COMMON/INTENDED PHRASES:\n",
    "\n",
    "1) \"quiet! ... not now\"  --  \n",
    "    'kurhtag zha hoot'\n",
    "\n",
    "\n",
    "2) brothers, guide the hand that feeds -- she will fucking end everything that you desire!\n",
    "    \"yah'theirem oschtach heth zalesch ethek ket’thevaal , esheh schra praften fetseth mechtagen zhi’la keth schalech!!!\"\n",
    "\n",
    "\n",
    "3) \"will wild blood be enough to satisfy today, brothers? a body is a body after all.\"  <<<----------------------------------------------\n",
    "    \"schra veldt licht’ahsek balt um heth tha’yeh yah'theirem? ah’heh grei'delah auf mivath\" <<<----------------------------------------------\n",
    "\n",
    "\n",
    "4) You offer gifts and knowledge - right now I only want peaceful sleep and a name I can own. Your lessons of blood will have to come another day. \n",
    "    \"Zhi’la taglacht ta'behatz ond en'glechtah, reiltag hoot ymek KHA eineh kurhtag sheleth ond ah’heh gemach ymek kan uvrach.  \n",
    "    zauf’ lisch'glecht lye licht’ahsek schra teik zhe kahling’theh KHA tha’yeh\"\n",
    "\n",
    "\n",
    "5) what exactly will you do with a body once you have it?  will you take a name as i have ?  \n",
    "will mere flesh satisfy you or do you want something greater\n",
    "\n",
    "    \"ond vek hethlichten schra zhi'la icht mit ah'heh grei'delah eizen 'lau teik hetha ??  \n",
    "    schra zhi'lau remgelech ah'heh gemach ezh ymek teik ?? \n",
    "    schra kelach yeshteh ch'edotten zhi'la Li-eh icht 'lau ketschaleh sheth'taglah gehrtag ??\"\n",
    "\n",
    "\n",
    "6) it was this wicked alliance that fashioned me into a seasoned merchant in the business of bedlam\n",
    "    \"hetha keseth het schivak lebeh'kesch ethek fazh'nethek en gehtalah ah'heh zeizen taglax leh heth bai'taz lye veilkanst\"\n",
    "\n",
    "\n",
    "7) so , brothers , do we trust this one ? his words are almost as arcane as your own.\n",
    "    \"schau , yah'theirem , icht nezh zhi'lau het ligath ? theghah veish ua sekasch ezh althak ezh zauf' uvrach .\"\n",
    "\n",
    "\n",
    "\n",
    "\n",
    "8) Magics come from all manner of places. Have we not shown you, Mekh ru'lau? \n",
    "En Zein - you wear the mantle of anomaly with such disquiet. \n",
    "You are a creature of chaos,  shaped by a million voices and forged in a crucible of utter annihilation. ````````````````\n",
    "Wear many faces. As Keth'retag knew this, so shall you. Give more - learn more. \n",
    "AND YOU, DRAGON ... A WARNING - THESE ARE NOT YOUR AFFAIRS. YOU ARE NOT WELC ----- (the inscription trails off) \n",
    "\n",
    "\"\"\"\"\"\"  \n",
    "    \"Mieker kahling'theh furhlig avleh vost lye kelenstax. Teik nezh zha haalekt zhi'la, mekh ru'lah? \n",
    "    En Zein 'Lau vust heth draal lye mikt'zeisse mit zusch leh'hast. \n",
    "    'La huth ahk teh'rakau lye reilkanst , zahal veh ahk mi'hap hacht ond kazath leh ahk hacht lye spe'hach auf'kust.\n",
    "    Vust mi'hap schicteth . Ezh thegal luheth het , schau schrein zhi'la . Lest milech lu'rag milech.\n",
    "    **Ond zhi'la Zweighast , ahk vah'grag . Heketh huth zha zauf bai'taz . 'La huth zha chu'koht...**\n",
    "\n",
    "\n",
    "9) do you have to be so fucking mysterious ? just tell me in simple words . have i not given enough yet ?\n",
    "\"icht zhi'la teik zhe zei schau praften makh' ayesh ? einschivak tag'hach en leh thekt veish . teik ymek zha lestach balt ehat ?\"\n",
    "\n",
    "\n",
    "\n",
    "10) we should trust this one, brothers. his intent is not wicked . he is simply a friend who suffers from healthy curiosity .\n",
    "we should trust this one , brothers . his intentions are not wicked . he is with us . a friend . one who merely suffers from healthy curiosity . \n",
    "    \"Nezh schra'hukh zhi'la het ligath, yah'theirem. Theghah fazheth huth zha schivak. Thegal ahft mit nezheh - ahk kesch. \n",
    "    Ligath veklah kelaz schreivah furhlig nurneth mikt'zeisse .\"\n",
    "\n",
    "\n",
    "\n",
    "11)  I am enough , $^%$&$ . I alone carry this Twisted Shard. Never may you have my friends. Their lives are their own\n",
    "\"Ymek auz balt , Mivath'ashek.  Ymek eineh lesech het Verdacht Schelathur. \n",
    "Zhi'la schra gevrahlech teik mekrer keschen. Usch eh'schah huth usch uvrach.\"\n",
    "\n",
    "\n",
    "12) do you see them ? the holes . the holes in space . they utter whispers to me . things completely unfamiliar yet I recognize it all . \n",
    "\"icht esch lakh uschlau ? heth ch'etzah . heth ch'etzah leh kesh'pahech . ta spe'hach kuurhach zhe en . tagen'zha vreit'selah gefamt ehat ymek i'irlekt mechtagen .\"\n",
    "\n",
    "\n",
    "\"\"\""
   ]
  },
  {
   "cell_type": "raw",
   "metadata": {},
   "source": [
    "'aengct wght'aetag 'ehxa'aektaglwyeh wg'ylwlw yeh'li'ui ct'li wg'ytaght 'ae v'lictyeh 'lingk'eh yeh'li'ui ht'aew'eh 'ytag ?\n",
    "wg'ylwlw yeh'li'ui tag'aec'eh 'ae ng'aemg'eh 'aes 'y ht'aew'eh ?  \n",
    "wg'ylwlw mg'ehr’l'eh fhlw'ehsht s'aetag'ysfhyeh yeh'li'ui 'lir’l ct'li yeh'li'ui wg'aengtag s'limg'ehtaght'ynggl glr’l'eh'aetag'ehr’l ?"
   ]
  }
 ],
 "metadata": {
  "kernelspec": {
   "display_name": "Python 3",
   "language": "python",
   "name": "python3"
  },
  "language_info": {
   "codemirror_mode": {
    "name": "ipython",
    "version": 3
   },
   "file_extension": ".py",
   "mimetype": "text/x-python",
   "name": "python",
   "nbconvert_exporter": "python",
   "pygments_lexer": "ipython3",
   "version": "3.10.11"
  },
  "vscode": {
   "interpreter": {
    "hash": "77ac0c853402d56c8c35fc55248c6e13af81d617bd03c564adf135eeadac4ade"
   }
  }
 },
 "nbformat": 4,
 "nbformat_minor": 4
}
